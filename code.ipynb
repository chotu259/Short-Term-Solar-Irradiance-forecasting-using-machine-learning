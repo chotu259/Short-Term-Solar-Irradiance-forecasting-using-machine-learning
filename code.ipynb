{
 "cells": [
  {
   "cell_type": "code",
   "execution_count": 36,
   "id": "c2766815-f083-4d84-bc1f-cb020f74c065",
   "metadata": {},
   "outputs": [],
   "source": [
    "import zipfile\n",
    "import os\n",
    "import xarray as xr\n",
    "import pandas as pd\n",
    "import numpy as np\n",
    "import hashlib\n",
    "from sklearn.model_selection import train_test_split\n",
    "from sklearn.preprocessing import MinMaxScaler\n",
    "from sklearn.ensemble import RandomForestRegressor\n",
    "from sklearn.linear_model import LinearRegression\n",
    "from sklearn.svm import SVR\n",
    "from sklearn.tree import DecisionTreeRegressor\n",
    "from sklearn.neighbors import KNeighborsRegressor\n",
    "from sklearn.metrics import mean_absolute_error, mean_squared_error, r2_score,mean_absolute_percentage_error, accuracy_score\n",
    "from IPython.display import display, HTML\n"
   ]
  },
  {
   "cell_type": "code",
   "execution_count": 2,
   "id": "55bb4ec2-53e5-490c-8de0-06441f23d2af",
   "metadata": {},
   "outputs": [
    {
     "name": "stdout",
     "output_type": "stream",
     "text": [
      "Defaulting to user installation because normal site-packages is not writeable\n",
      "Requirement already satisfied: h5netcdf in c:\\users\\abc\\appdata\\roaming\\python\\python312\\site-packages (1.6.1)\n",
      "Requirement already satisfied: h5py in c:\\programdata\\dbg\\anacode_new_version\\lib\\site-packages (from h5netcdf) (3.11.0)\n",
      "Requirement already satisfied: packaging in c:\\users\\abc\\appdata\\roaming\\python\\python312\\site-packages (from h5netcdf) (24.2)\n",
      "Requirement already satisfied: numpy>=1.17.3 in c:\\users\\abc\\appdata\\roaming\\python\\python312\\site-packages (from h5py->h5netcdf) (1.26.4)\n",
      "Defaulting to user installation because normal site-packages is not writeable\n",
      "Requirement already satisfied: netcdf4 in c:\\users\\abc\\appdata\\roaming\\python\\python312\\site-packages (1.7.2)\n",
      "Requirement already satisfied: cftime in c:\\users\\abc\\appdata\\roaming\\python\\python312\\site-packages (from netcdf4) (1.6.4.post1)\n",
      "Requirement already satisfied: certifi in c:\\programdata\\dbg\\anacode_new_version\\lib\\site-packages (from netcdf4) (2024.8.30)\n",
      "Requirement already satisfied: numpy in c:\\users\\abc\\appdata\\roaming\\python\\python312\\site-packages (from netcdf4) (1.26.4)\n",
      "Defaulting to user installation because normal site-packages is not writeable\n",
      "Requirement already satisfied: scipy in c:\\users\\abc\\appdata\\roaming\\python\\python312\\site-packages (1.15.2)\n",
      "Requirement already satisfied: numpy<2.5,>=1.23.5 in c:\\users\\abc\\appdata\\roaming\\python\\python312\\site-packages (from scipy) (1.26.4)\n"
     ]
    }
   ],
   "source": [
    "!pip install h5netcdf\n",
    "!pip install netcdf4\n",
    "!pip install scipy"
   ]
  },
  {
   "cell_type": "code",
   "execution_count": 140,
   "id": "b3b4e66b-8f25-4605-a7f3-baf648717c70",
   "metadata": {},
   "outputs": [
    {
     "data": {
      "text/html": [
       "<b>To predict GHI (Global Horizontal Irradiance) at 15-minute intervals, we need to extract features from both the satellite images and time-based information. Here are potential features you can extract: 1. Satellite Data-Based Features. Since we are predicting GHI, which is related to solar radiation, solar angles (like Sun Azimuth and Sun Elevation) are critical, as they directly affect irradiance. Similarly, satellite bands (e.g., MIR, SWIR, TIR1) capture various parts of the spectrum relevant to solar radiation.</b>"
      ],
      "text/plain": [
       "<IPython.core.display.HTML object>"
      ]
     },
     "metadata": {},
     "output_type": "display_data"
    }
   ],
   "source": [
    "from IPython.display import display, HTML\n",
    "\n",
    "display(HTML(\"<b>To predict GHI (Global Horizontal Irradiance) at 15-minute intervals, we need to extract features from both the satellite images and time-based information. Here are potential features you can extract: 1. Satellite Data-Based Features. Since we are predicting GHI, which is related to solar radiation, solar angles (like Sun Azimuth and Sun Elevation) are critical, as they directly affect irradiance. Similarly, satellite bands (e.g., MIR, SWIR, TIR1) capture various parts of the spectrum relevant to solar radiation.</b>\"))\n"
   ]
  },
  {
   "cell_type": "code",
   "execution_count": 141,
   "id": "a75d4017-f31d-4bf4-af6d-7b6644fc78d2",
   "metadata": {},
   "outputs": [
    {
     "data": {
      "text/html": [
       "<b>below function return features corresponding one folder</b>"
      ],
      "text/plain": [
       "<IPython.core.display.HTML object>"
      ]
     },
     "metadata": {},
     "output_type": "display_data"
    }
   ],
   "source": [
    "display(HTML(\"<b>below function return features corresponding one folder</b>\"))"
   ]
  },
  {
   "cell_type": "code",
   "execution_count": 3,
   "id": "25ed0616-350b-4d71-8fef-533f8fffc465",
   "metadata": {},
   "outputs": [],
   "source": [
    "def extract_features_from_file(file_path):\n",
    "    # Open the dataset\n",
    "    ds = xr.open_dataset(file_path)\n",
    "\n",
    "    # Get time\n",
    "    time = ds['time'].values  \n",
    "\n",
    "    # Features\n",
    "    sun_azimuth = ds['Sun_Azimuth'].mean(dim=[\"latitude\", \"longitude\"]).values\n",
    "    sun_elevation = ds['Sun_Elevation'].mean(dim=[\"latitude\", \"longitude\"]).values\n",
    "    img_mir_mean = ds['IMG_MIR'].mean(dim=[\"latitude\", \"longitude\"]).values\n",
    "    img_mir_std = ds['IMG_MIR'].std(dim=[\"latitude\", \"longitude\"]).values\n",
    "    grey_count_mean = ds['IMG_MIR_RADIANCE'].mean(dim=\"GreyCount\").values\n",
    "    grey_count_std = ds['IMG_MIR_RADIANCE'].std(dim=\"GreyCount\").values\n",
    "\n",
    "    # Time features\n",
    "    hour_of_day = np.array([t.hour for t in pd.to_datetime(time)])\n",
    "    day_of_year = np.array([t.timetuple().tm_yday for t in pd.to_datetime(time)])\n",
    "    hour_sin = np.sin(2 * np.pi * hour_of_day / 24)\n",
    "    hour_cos = np.cos(2 * np.pi * hour_of_day / 24)\n",
    "    day_sin = np.sin(2 * np.pi * day_of_year / 365)\n",
    "    day_cos = np.cos(2 * np.pi * day_of_year / 365)\n",
    "\n",
    "    # Collect feature rows for each time step\n",
    "    rows = []\n",
    "    for i in range(len(time)):\n",
    "        rows.append({\n",
    "            \"filename\": os.path.basename(file_path),\n",
    "            \"time\": time[i],\n",
    "            \"sun_azimuth\": sun_azimuth[i],\n",
    "            \"sun_elevation\": sun_elevation[i],\n",
    "            \"img_mir_mean\": img_mir_mean[i],\n",
    "            \"img_mir_std\": img_mir_std[i],\n",
    "            \"grey_count_mean\": grey_count_mean[i],\n",
    "            \"grey_count_std\": grey_count_std[i],\n",
    "            \"hour_sin\": hour_sin[i],\n",
    "            \"hour_cos\": hour_cos[i],\n",
    "            \"day_sin\": day_sin[i],\n",
    "            \"day_cos\": day_cos[i]\n",
    "        })\n",
    "    \n",
    "    return rows\n",
    "\n",
    "def process_folders_and_extract_features(all_folders):\n",
    "    rows = []  # List to hold all rows\n",
    "    for folder in all_folders:\n",
    "        for filename in os.listdir(folder):\n",
    "            if filename.endswith(\".nc\"):\n",
    "                file_path = os.path.join(folder, filename)\n",
    "                # Extract features for the current file\n",
    "                rows.extend(extract_features_from_file(file_path))  # Append rows\n",
    "    return rows\n",
    "\n"
   ]
  },
  {
   "cell_type": "code",
   "execution_count": 143,
   "id": "f534c24f-eeee-46c6-9dda-4cffc81c9aff",
   "metadata": {},
   "outputs": [
    {
     "data": {
      "text/html": [
       "<b>using below code i extracted .nc folder files. don't run below file</b>"
      ],
      "text/plain": [
       "<IPython.core.display.HTML object>"
      ]
     },
     "metadata": {},
     "output_type": "display_data"
    }
   ],
   "source": [
    "display(HTML(\"<b>using below code i extracted .nc folder files. don't run below file</b>\"))"
   ]
  },
  {
   "cell_type": "code",
   "execution_count": 144,
   "id": "51dac862-aa92-4312-8d63-add0fb2af95d",
   "metadata": {},
   "outputs": [],
   "source": [
    "with zipfile.ZipFile(\"Jun_Output.zip\", 'r') as zip_ref:\n",
    "    zip_ref.extractall(\"Jun-data\")  # Extract to this directory\n",
    "\n",
    "with zipfile.ZipFile(\"Jul_Output.zip\", 'r') as zip_ref:\n",
    "    zip_ref.extractall(\"Jul-data\")  # Extract to this directory \n",
    "\n",
    "with zipfile.ZipFile(\"Aug_Output.zip\", 'r') as zip_ref:\n",
    "    zip_ref.extractall(\"Aug-data\")  # Extract to this directory\n",
    "\n"
   ]
  },
  {
   "cell_type": "code",
   "execution_count": 145,
   "id": "0d00db58-4066-44d3-94f6-f76c5d2d30d5",
   "metadata": {},
   "outputs": [
    {
     "data": {
      "text/html": [
       "<b>here storing 3 month .nc file information in all_folders variable</b>"
      ],
      "text/plain": [
       "<IPython.core.display.HTML object>"
      ]
     },
     "metadata": {},
     "output_type": "display_data"
    }
   ],
   "source": [
    "display(HTML('<b>here storing 3 month .nc file information in all_folders variable</b>')) "
   ]
  },
  {
   "cell_type": "code",
   "execution_count": 4,
   "id": "347449a6-3c0c-4040-ad73-57fdb4a1b68f",
   "metadata": {},
   "outputs": [],
   "source": [
    "folder_Y_Jun = os.path.join(\"Jun-data\", \"Insat_Jun_Output_Kopal_3D\")\n",
    "folder_Y_Jul = os.path.join(\"Jul-data\", \"Insat_Jul_Output_Kopal_3DR_S\")\n",
    "folder_Y_Aug = os.path.join(\"Aug-data\", \"Insat_Aug_Output_Kopal_3DR_S\")\n",
    "\n",
    "# Combine all folders \n",
    "all_folders = [folder_Y_Jun, folder_Y_Jul, folder_Y_Aug] \n",
    "\n",
    "# Normalize file names to detect duplicates (ignoring case)\n",
    "unique_files = set()\n",
    "duplicates = []"
   ]
  },
  {
   "cell_type": "code",
   "execution_count": 147,
   "id": "195663c2-f30c-481b-b5f4-92388c0ccbbc",
   "metadata": {},
   "outputs": [
    {
     "data": {
      "text/html": [
       "<b>cleaning data- here removing duplicates from all folders.</b>"
      ],
      "text/plain": [
       "<IPython.core.display.HTML object>"
      ]
     },
     "metadata": {},
     "output_type": "display_data"
    }
   ],
   "source": [
    "display(HTML('<b>cleaning data- here removing duplicates from all folders.</b>'))"
   ]
  },
  {
   "cell_type": "code",
   "execution_count": 5,
   "id": "11a13cd3-159a-45a1-befe-4fe8d7895148",
   "metadata": {
    "scrolled": true
   },
   "outputs": [],
   "source": [
    "\n",
    "# Check for duplicates in each folder\n",
    "for folder in all_folders:\n",
    "    for file in os.listdir(folder):  # Loop through files in each folder\n",
    "        if file.endswith('.nc'):\n",
    "            lower_name = file.lower()\n",
    "            if lower_name in unique_files:\n",
    "                duplicates.append(os.path.join(folder, file))  # Store full path of duplicate\n",
    "            else:\n",
    "                unique_files.add(lower_name)\n",
    "\n",
    "# Remove duplicate files\n",
    "for dup_file in duplicates:\n",
    "    print(f\"Trying to remove duplicate file: {dup_file}\") \n",
    "    try: \n",
    "        os.remove(dup_file)\n",
    "        print(f\"Removed: {dup_file}\")  \n",
    "    except FileNotFoundError:\n",
    "        print(f\"File not found, skipping: {dup_file}\") \n",
    "    except PermissionError:\n",
    "        print(f\"Permission denied, skipping: {dup_file}\")\n"
   ]
  },
  {
   "cell_type": "code",
   "execution_count": 149,
   "id": "9d239717-a432-4912-a904-fefee90c30b8",
   "metadata": {},
   "outputs": [
    {
     "data": {
      "text/html": [
       "<b>printing folder names</b>"
      ],
      "text/plain": [
       "<IPython.core.display.HTML object>"
      ]
     },
     "metadata": {},
     "output_type": "display_data"
    }
   ],
   "source": [
    "display(HTML('<b>printing folder names</b>'))"
   ]
  },
  {
   "cell_type": "code",
   "execution_count": 6,
   "id": "3b2c2fd6-b5ac-4934-8647-bbcb2f546a72",
   "metadata": {},
   "outputs": [
    {
     "name": "stdout",
     "output_type": "stream",
     "text": [
      "Jun-data\\Insat_Jun_Output_Kopal_3D \n",
      "\n",
      "Jul-data\\Insat_Jul_Output_Kopal_3DR_S \n",
      "\n",
      "Aug-data\\Insat_Aug_Output_Kopal_3DR_S \n",
      "\n"
     ]
    }
   ],
   "source": [
    "for folder in all_folders:\n",
    "    print(folder,\"\\n\") "
   ]
  },
  {
   "cell_type": "code",
   "execution_count": 157,
   "id": "515397f1-2d48-459a-b38d-f4ba03668ccf",
   "metadata": {},
   "outputs": [
    {
     "data": {
      "text/html": [
       "<b>extracting revelant features that are necessary for predcting GHI values.</b>"
      ],
      "text/plain": [
       "<IPython.core.display.HTML object>"
      ]
     },
     "metadata": {},
     "output_type": "display_data"
    }
   ],
   "source": [
    "display(HTML('<b>extracting revelant features that are necessary for predcting GHI values.</b>'))"
   ]
  },
  {
   "cell_type": "code",
   "execution_count": 54,
   "id": "d2a776bf-62a1-4703-a3cb-8d6d8b5c36f8",
   "metadata": {
    "scrolled": true
   },
   "outputs": [
    {
     "name": "stdout",
     "output_type": "stream",
     "text": [
      "                          filename                time  sun_azimuth  \\\n",
      "0     INSAT_3DR_Kopal_10Jun2024.nc 2024-06-10 04:15:00    75.787994   \n",
      "1     INSAT_3DR_Kopal_10Jun2024.nc 2024-06-10 04:45:00    74.839592   \n",
      "2     INSAT_3DR_Kopal_10Jun2024.nc 2024-06-10 05:15:00    72.220001   \n",
      "3     INSAT_3DR_Kopal_10Jun2024.nc 2024-06-10 05:45:00    65.788406   \n",
      "4     INSAT_3DR_Kopal_10Jun2024.nc 2024-06-10 06:15:00    46.572399   \n",
      "...                            ...                 ...          ...   \n",
      "4832   INSAT_3DS_Kopal_9AUG2024.nc 2024-08-09 16:30:00   314.170807   \n",
      "4833   INSAT_3DS_Kopal_9AUG2024.nc 2024-08-09 17:00:00   321.773193   \n",
      "4834   INSAT_3DS_Kopal_9AUG2024.nc 2024-08-09 17:30:00   331.105194   \n",
      "4835   INSAT_3DS_Kopal_9AUG2024.nc 2024-08-09 18:00:00   342.200012   \n",
      "4836   INSAT_3DS_Kopal_9AUG2024.nc 2024-08-09 18:30:00   354.787201   \n",
      "\n",
      "      sun_elevation  img_mir_mean  img_mir_std  grey_count_mean  \\\n",
      "0         56.889206    880.719971    14.334629         0.161563   \n",
      "1         63.753605    863.479980    33.003174         0.161563   \n",
      "2         70.569992    814.640015    47.801994         0.161563   \n",
      "3         77.214394    774.520020    29.574476         0.161544   \n",
      "4         83.190002    754.559998    23.108578         0.161525   \n",
      "...             ...           ...          ...              ...   \n",
      "4832       0.500000    861.880005     2.250689         0.157423   \n",
      "4833       0.500000    865.280029     2.391987         0.155571   \n",
      "4834       0.500000    881.359985    13.614346         0.164831   \n",
      "4835       0.500000    888.400024    13.212116         0.177146   \n",
      "4836       0.500000    892.440002    17.726995         0.178600   \n",
      "\n",
      "      grey_count_std  hour_sin      hour_cos   day_sin   day_cos  \n",
      "0           0.100765  0.866025  5.000000e-01  0.345612 -0.938377  \n",
      "1           0.100765  0.866025  5.000000e-01  0.345612 -0.938377  \n",
      "2           0.100765  0.965926  2.588190e-01  0.345612 -0.938377  \n",
      "3           0.100756  0.965926  2.588190e-01  0.345612 -0.938377  \n",
      "4           0.100748  1.000000  6.123234e-17  0.345612 -0.938377  \n",
      "...              ...       ...           ...       ...       ...  \n",
      "4832        0.094374 -0.866025 -5.000000e-01 -0.628763 -0.777597  \n",
      "4833        0.093360 -0.965926 -2.588190e-01 -0.628763 -0.777597  \n",
      "4834        0.098713 -0.965926 -2.588190e-01 -0.628763 -0.777597  \n",
      "4835        0.106127 -1.000000 -1.836970e-16 -0.628763 -0.777597  \n",
      "4836        0.107019 -1.000000 -1.836970e-16 -0.628763 -0.777597  \n",
      "\n",
      "[4837 rows x 12 columns]\n"
     ]
    }
   ],
   "source": [
    "feature_rows = process_folders_and_extract_features(all_folders) \n",
    "\n",
    "# Convert the list of rows into a DataFrame\n",
    "features_df = pd.DataFrame(feature_rows)\n",
    "\n",
    "# Display the DataFrame\n",
    "print(features_df) \n",
    "#scaler = MinMaxScaler()\n",
    "\n",
    "# Normalize the data\n",
    "#x = scaler.fit_transform(features_df)"
   ]
  },
  {
   "cell_type": "code",
   "execution_count": 120,
   "id": "7a2e93ee-1948-4ce0-9590-72cdcd2fae73",
   "metadata": {},
   "outputs": [
    {
     "data": {
      "text/html": [
       "<b>Extracting labels from excel sheet (only Jun-Aug labels) - GHI values for corresponding features</b>"
      ],
      "text/plain": [
       "<IPython.core.display.HTML object>"
      ]
     },
     "metadata": {},
     "output_type": "display_data"
    }
   ],
   "source": [
    "display(HTML('<b>Extracting labels from excel sheet (only Jun-Aug labels) - GHI values for corresponding features</b>'))"
   ]
  },
  {
   "cell_type": "code",
   "execution_count": 8,
   "id": "57d07708-c370-4d37-b66d-4fc090214558",
   "metadata": {},
   "outputs": [
    {
     "name": "stdout",
     "output_type": "stream",
     "text": [
      "                   time  GHI\n",
      "954 2024-06-01 00:30:00 -2.0\n",
      "955 2024-06-01 00:45:00 -2.0\n",
      "956 2024-06-01 01:00:00 -2.0\n",
      "957 2024-06-01 01:15:00 -2.0\n",
      "958 2024-06-01 01:30:01 -2.0\n"
     ]
    }
   ],
   "source": [
    "GHI_df = pd.read_excel(\"Sample Dataset - ML Assignment.xlsx\")\n",
    "GHI_train = GHI_df.iloc[954:9691]\n",
    "GHI_train = GHI_train.drop(columns='Unnamed: 1')\n",
    "\n",
    "# Clean column names by stripping any extra spaces \n",
    "GHI_train.columns = GHI_train.columns.str.strip()\n",
    "\n",
    "# Now rename the 'Date' column to 'time'\n",
    "GHI_train.rename(columns={'Date': 'time','Observed GHI' : 'GHI'}, inplace=True)\n",
    "\n",
    "print(GHI_train.head()) "
   ]
  },
  {
   "cell_type": "code",
   "execution_count": 122,
   "id": "adfc056f-b2e8-4908-a1b7-8b00feec40eb",
   "metadata": {},
   "outputs": [
    {
     "data": {
      "text/html": [
       "<b>merging features and GHI labels by matching time. </b>"
      ],
      "text/plain": [
       "<IPython.core.display.HTML object>"
      ]
     },
     "metadata": {},
     "output_type": "display_data"
    }
   ],
   "source": [
    "display(HTML('<b>merging features and GHI labels by matching time. </b>'))"
   ]
  },
  {
   "cell_type": "code",
   "execution_count": 13,
   "id": "e63a1e4f-3f86-4a78-b562-ae8d11c67af6",
   "metadata": {},
   "outputs": [],
   "source": [
    "features_df['time'] = pd.to_datetime(features_df['time'])\n",
    "GHI_train['time'] = pd.to_datetime(GHI_train['time'])\n",
    "\n",
    "# Merge the GHI data with the feature DataFrame\n",
    "merged_df = pd.merge(features_df, GHI_train, on='time')  # Ensure 'time' is the common column\n",
    "x = merged_df.drop(columns=['GHI', 'time','filename'])  # only features\n",
    "y = merged_df['GHI'] #only  labels- GHI\n"
   ]
  },
  {
   "cell_type": "code",
   "execution_count": 159,
   "id": "06a7d10e-732f-4334-a1ba-42dd031cf11d",
   "metadata": {},
   "outputs": [
    {
     "data": {
      "text/html": [
       "<b>Normalizing features(x) using minmaxscaler</b>"
      ],
      "text/plain": [
       "<IPython.core.display.HTML object>"
      ]
     },
     "metadata": {},
     "output_type": "display_data"
    }
   ],
   "source": [
    "display(HTML('<b>Normalizing features(x) using minmaxscaler</b>'))"
   ]
  },
  {
   "cell_type": "code",
   "execution_count": 14,
   "id": "6e4abcb5-c17d-4053-9a21-b77867697add",
   "metadata": {},
   "outputs": [
    {
     "name": "stdout",
     "output_type": "stream",
     "text": [
      "[[0.2043414  0.62444031 0.76122219 ... 1.         0.89641932 0.12077157]\n",
      " [0.20172962 0.70045499 0.72727986 ... 1.         0.89641932 0.12077157]\n",
      " [0.17680385 0.84951648 0.55213424 ... 0.8392127  0.89641932 0.12077157]\n",
      " ...\n",
      " [0.78025784 0.09375485 0.7655536  ... 0.         0.17890078 0.43606758]\n",
      " [0.93800494 0.         0.77634279 ... 0.66666667 0.17890078 0.43606758]\n",
      " [0.9726684  0.         0.78429675 ... 0.66666667 0.17890078 0.43606758]]\n"
     ]
    }
   ],
   "source": [
    "scaler = MinMaxScaler()\n",
    "\n",
    "# Normalize the data\n",
    "x = scaler.fit_transform(x)\n",
    "print(x)"
   ]
  },
  {
   "cell_type": "code",
   "execution_count": 15,
   "id": "2c34b0cf-3555-46af-a554-4a81cfaef76f",
   "metadata": {},
   "outputs": [
    {
     "name": "stdout",
     "output_type": "stream",
     "text": [
      "2024-06-01 04:00:00 2024-08-31 17:15:00\n",
      "2024-06-01 00:30:00 2024-09-01 00:56:10\n"
     ]
    }
   ],
   "source": [
    "print(features_df['time'].min(), features_df['time'].max())\n",
    "print(GHI_train['time'].min(), GHI_train['time'].max()) \n"
   ]
  },
  {
   "cell_type": "code",
   "execution_count": 161,
   "id": "d16ed3af-a650-43cc-9e5a-ed8cdbde9e4f",
   "metadata": {},
   "outputs": [
    {
     "data": {
      "text/html": [
       "<b>Spillting  x and y into train and test data</b>"
      ],
      "text/plain": [
       "<IPython.core.display.HTML object>"
      ]
     },
     "metadata": {},
     "output_type": "display_data"
    }
   ],
   "source": [
    "display(HTML(\"<b>Spillting  x and y into train and test data</b>\"))"
   ]
  },
  {
   "cell_type": "code",
   "execution_count": 16,
   "id": "2f892d24-54d1-4187-b27a-6acf03099680",
   "metadata": {},
   "outputs": [
    {
     "name": "stdout",
     "output_type": "stream",
     "text": [
      "(3238,)\n",
      "(3238, 10)\n"
     ]
    }
   ],
   "source": [
    "X_train, X_test, y_train, y_test = train_test_split(x, y, test_size=0.2, random_state=42)\n",
    "print(y.shape)\n",
    "print(x.shape)\n"
   ]
  },
  {
   "cell_type": "code",
   "execution_count": 31,
   "id": "6795267d-da15-4948-872c-6117ae78540f",
   "metadata": {},
   "outputs": [
    {
     "data": {
      "text/html": [
       "<b>Below we are taking sep data</b>"
      ],
      "text/plain": [
       "<IPython.core.display.HTML object>"
      ]
     },
     "metadata": {},
     "output_type": "display_data"
    }
   ],
   "source": [
    "display(HTML(\"<b>Below we are taking sep data</b>\")) "
   ]
  },
  {
   "cell_type": "code",
   "execution_count": 22,
   "id": "76805c73-b5ae-466c-8578-b17912d5b3dd",
   "metadata": {},
   "outputs": [],
   "source": [
    "with zipfile.ZipFile(\"Sep_Validation_Data.zip\", 'r') as zip_ref:\n",
    "    zip_ref.extractall(\"Sep-data\")  # Extract to this directory\n"
   ]
  },
  {
   "cell_type": "code",
   "execution_count": 32,
   "id": "757255ae-940e-421f-9b42-2b77bac1445b",
   "metadata": {},
   "outputs": [
    {
     "data": {
      "text/html": [
       "<b>Extracting features of sep data</b>"
      ],
      "text/plain": [
       "<IPython.core.display.HTML object>"
      ]
     },
     "metadata": {},
     "output_type": "display_data"
    }
   ],
   "source": [
    "display(HTML(\"<b>Extracting features of sep data</b>\"))"
   ]
  },
  {
   "cell_type": "code",
   "execution_count": 23,
   "id": "fae89930-066b-4e1e-8fb2-bea7c1d7ab72",
   "metadata": {
    "scrolled": true
   },
   "outputs": [
    {
     "name": "stdout",
     "output_type": "stream",
     "text": [
      "                  filename                time  sun_azimuth  sun_elevation  \\\n",
      "0    INSAT_3DR_1SEP2024.nc 2024-09-01 04:45:00   106.274796      61.540794   \n",
      "1    INSAT_3DR_1SEP2024.nc 2024-09-01 05:15:00   113.290390      68.331596   \n",
      "2    INSAT_3DR_1SEP2024.nc 2024-09-01 05:45:00   125.239601      74.650002   \n",
      "3    INSAT_3DR_1SEP2024.nc 2024-09-01 06:15:00   148.539612      79.702789   \n",
      "4    INSAT_3DR_1SEP2024.nc 2024-09-01 06:45:00   189.170395      81.304001   \n",
      "..                     ...                 ...          ...            ...   \n",
      "352  INSAT_3DS_7SEP2024.nc 2024-09-07 15:00:00   289.625183       0.500000   \n",
      "353  INSAT_3DS_7SEP2024.nc 2024-09-07 15:30:00   293.658386       0.500000   \n",
      "354  INSAT_3DS_7SEP2024.nc 2024-09-07 16:00:00   298.650787       0.500000   \n",
      "355  INSAT_3DS_7SEP2024.nc 2024-09-07 16:30:00   304.994812       0.500000   \n",
      "356  INSAT_3DS_7SEP2024.nc 2024-09-07 17:00:00   313.317200       0.500000   \n",
      "\n",
      "     img_mir_mean  img_mir_std  grey_count_mean  grey_count_std  hour_sin  \\\n",
      "0      962.640015     2.896619         0.161544        0.100756  0.866025   \n",
      "1      955.880005     3.102515         0.161563        0.100765  0.965926   \n",
      "2      956.799988     3.136878         0.161544        0.100756  0.965926   \n",
      "3      954.039978     3.423215         0.161544        0.100756  1.000000   \n",
      "4      951.559998     4.138406         0.161525        0.100748  1.000000   \n",
      "..            ...          ...              ...             ...       ...   \n",
      "352    997.479980     1.203993         0.158742        0.095239 -0.707107   \n",
      "353    991.479980     3.336106         0.156378        0.093921 -0.707107   \n",
      "354   1000.520020     1.746310         0.159983        0.095919 -0.866025   \n",
      "355    998.640015     2.206898         0.156913        0.094056 -0.866025   \n",
      "356           NaN          NaN         0.172225        0.103071 -0.965926   \n",
      "\n",
      "         hour_cos   day_sin   day_cos  \n",
      "0    5.000000e-01 -0.880012 -0.474951  \n",
      "1    2.588190e-01 -0.880012 -0.474951  \n",
      "2    2.588190e-01 -0.880012 -0.474951  \n",
      "3    6.123234e-17 -0.880012 -0.474951  \n",
      "4    6.123234e-17 -0.880012 -0.474951  \n",
      "..            ...       ...       ...  \n",
      "352 -7.071068e-01 -0.924291 -0.381689  \n",
      "353 -7.071068e-01 -0.924291 -0.381689  \n",
      "354 -5.000000e-01 -0.924291 -0.381689  \n",
      "355 -5.000000e-01 -0.924291 -0.381689  \n",
      "356 -2.588190e-01 -0.924291 -0.381689  \n",
      "\n",
      "[357 rows x 12 columns]\n"
     ]
    },
    {
     "name": "stderr",
     "output_type": "stream",
     "text": [
      "C:\\Users\\abc\\AppData\\Roaming\\Python\\Python312\\site-packages\\numpy\\lib\\nanfunctions.py:1879: RuntimeWarning: Degrees of freedom <= 0 for slice.\n",
      "  var = nanvar(a, axis=axis, dtype=dtype, out=out, ddof=ddof,\n"
     ]
    }
   ],
   "source": [
    "folder_Y_Sep= os.path.join(\"Sep-data\", \"INSAT_Validation_Data\")\n",
    "p=[] \n",
    "for filename in os.listdir(folder_Y_Sep):\n",
    "            if filename.endswith(\".nc\"):\n",
    "                file_path = os.path.join(folder_Y_Sep, filename)\n",
    "                # Extract features for the current file\n",
    "                p.extend(extract_features_from_file(file_path))  \n",
    "            \n",
    "df = pd.DataFrame(p) \n",
    "print(df) "
   ]
  },
  {
   "cell_type": "code",
   "execution_count": 40,
   "id": "eeff4366-f134-4b87-bc09-697fadc83ce0",
   "metadata": {},
   "outputs": [
    {
     "data": {
      "text/html": [
       "<b>Extracting labels of sep month from given Excel sheet</b>"
      ],
      "text/plain": [
       "<IPython.core.display.HTML object>"
      ]
     },
     "metadata": {},
     "output_type": "display_data"
    }
   ],
   "source": [
    "display(HTML(\"<b>Extracting labels of sep month from given Excel sheet</b>\"))"
   ]
  },
  {
   "cell_type": "code",
   "execution_count": 24,
   "id": "b866c3c9-17e8-435a-8843-ae3bbed78c5e",
   "metadata": {},
   "outputs": [
    {
     "name": "stdout",
     "output_type": "stream",
     "text": [
      "                    Date   Observed GHI \n",
      "9691  2024-09-01 01:10:32            0.0\n",
      "9692  2024-09-01 02:32:06            0.0\n",
      "9693  2024-09-01 05:56:31            0.0\n",
      "9694  2024-09-01 06:09:46            0.0\n",
      "9695  2024-09-01 07:20:17            0.0\n",
      "...                   ...            ...\n",
      "10510 2024-09-09 23:00:00            0.0\n",
      "10511 2024-09-09 23:15:01            0.0\n",
      "10512 2024-09-09 23:30:00            0.0\n",
      "10513 2024-09-09 23:45:00            0.0\n",
      "10514 2024-09-10 00:00:00            0.0\n",
      "\n",
      "[824 rows x 2 columns]\n"
     ]
    }
   ],
   "source": [
    "#GHI_df = pd.read_excel(\"Sample Dataset - ML Assignment.xlsx\")\n",
    "GHI_test = GHI_df.iloc[9691:]\n",
    "GHI_test= GHI_test.drop(columns='Unnamed: 1')\n",
    "print(GHI_test) \n",
    "# Clean column names by stripping any extra spaces \n",
    "GHI_test.columns = GHI_test.columns.str.strip() \n",
    "\n",
    "# Now rename the 'Date' column to 'time'\n",
    "GHI_test.rename(columns={'Date': 'time','Observed GHI' : 'GHI'}, inplace=True) \n",
    "# Drop 'filename' column from features_df before merging\n",
    "sep_df = df.drop(columns=['filename'])\n",
    "\n",
    "# Ensure 'time' column is datetime format in both DataFrames\n",
    "sep_df['time'] = pd.to_datetime(sep_df['time'])\n",
    "GHI_test['time'] = pd.to_datetime(GHI_test['time'])\n",
    "\n",
    "# Merge the GHI data with the feature DataFrame\n",
    "merged_df = pd.merge(sep_df, GHI_test, on='time')  # Ensure 'time' is the common column\n",
    "X = merged_df.drop(columns=['GHI', 'time'])  \n",
    "sep_X= scaler.fit_transform(X) \n",
    "sep_Y= merged_df['GHI']  "
   ]
  },
  {
   "cell_type": "code",
   "execution_count": 34,
   "id": "f331f155-fc02-4bb7-8864-bbf6f0adb852",
   "metadata": {},
   "outputs": [
    {
     "data": {
      "text/html": [
       "<b>Training 3 months features and its labels using different ML models</b>"
      ],
      "text/plain": [
       "<IPython.core.display.HTML object>"
      ]
     },
     "metadata": {},
     "output_type": "display_data"
    }
   ],
   "source": [
    "display(HTML(\"<b>Training 3 months features and its labels using different ML models</b>\"))"
   ]
  },
  {
   "cell_type": "code",
   "execution_count": 39,
   "id": "36760c3c-40a7-4c85-933c-3be7a2e919f8",
   "metadata": {},
   "outputs": [
    {
     "name": "stdout",
     "output_type": "stream",
     "text": [
      "Model Performance:\n",
      "\n",
      "Linear Regression: MAE = 114.89047978548452, RMSE = 151.7035660491518, R^2 = 0.6412663289966773, MAPE=2.4587363887551052e+16\n",
      "\n",
      "\n",
      "Random Forest: MAE = 146.1275481167383, RMSE = 203.96923257220752, R^2 = 0.35150014088195414, MAPE=1.1846992718843752e+16\n",
      "\n",
      "\n",
      "Support Vector Machine: MAE = 198.03107585598778, RMSE = 260.34097344109, R^2 = -0.056490536189091944, MAPE=3.223241448289863e+16\n",
      "\n",
      "\n",
      "Decision Tree: MAE = 184.94769668737058, RMSE = 250.5003546953168, R^2 = 0.021868483473401867, MAPE=3970020975866821.5\n",
      "\n",
      "\n",
      "K-Nearest Neighbors: MAE = 133.46883822699039, RMSE = 182.19872769865682, R^2 = 0.48254660317490483, MAPE=1041375826879657.0\n",
      "\n",
      "\n"
     ]
    }
   ],
   "source": [
    "models = {\n",
    "    'Linear Regression': LinearRegression(),\n",
    "    'Random Forest': RandomForestRegressor(n_estimators=100, random_state=42),\n",
    "    'Support Vector Machine': SVR(),\n",
    "    'Decision Tree': DecisionTreeRegressor(),\n",
    "    'K-Nearest Neighbors': KNeighborsRegressor()\n",
    "}\n",
    "\n",
    "# Initialize a dictionary to store model performance\n",
    "performance = {}\n",
    "\n",
    "# Train and evaluate each model\n",
    "for model_name, model in models.items():\n",
    "    # Train the model\n",
    "    model.fit(X_train, y_train)\n",
    "    \n",
    "    # Make predictions\n",
    "    y_pred_sep = model.predict(sep_X)\n",
    "    \n",
    "    # Evaluate performance (using Mean Absolute Error here)\n",
    "    mae = mean_absolute_error(sep_Y, y_pred_sep)\n",
    "    rmse = np.sqrt(mean_squared_error(sep_Y, y_pred_sep))\n",
    "    r2 = r2_score(sep_Y, y_pred_sep) \n",
    "    mape=mean_absolute_percentage_error(sep_Y, y_pred_sep)\n",
    "    \n",
    "    # Store the performance result\n",
    "    performance[model_name] = {'MAE': mae, 'RMSE': rmse, 'R^2': r2,'MAPE':mape} \n",
    "    # Store the performance result\n",
    "    #performance[model_name] = mae \n",
    "\n",
    "print(\"Model Performance:\\n\")\n",
    "for model_name, metrics in performance.items():\n",
    "    print(f\"{model_name}: MAE = {metrics['MAE']}, RMSE = {metrics['RMSE']}, R^2 = {metrics['R^2']}, MAPE={metrics['MAPE']}\")\n",
    "    print(\"\\n\") "
   ]
  },
  {
   "cell_type": "code",
   "execution_count": 50,
   "id": "febe9902-6539-4bc4-8e47-07e614af7438",
   "metadata": {},
   "outputs": [
    {
     "data": {
      "text/html": [
       "<b>linear regression performance is better out off other ML algorithms. </b>"
      ],
      "text/plain": [
       "<IPython.core.display.HTML object>"
      ]
     },
     "metadata": {},
     "output_type": "display_data"
    },
    {
     "data": {
      "text/html": [
       "<b>Below are Linear Regression results </b>"
      ],
      "text/plain": [
       "<IPython.core.display.HTML object>"
      ]
     },
     "metadata": {},
     "output_type": "display_data"
    }
   ],
   "source": [
    "display(HTML(\"<b>linear regression performance is better out off other ML algorithms. </b>\"))\n",
    "display(HTML(\"<b>Below are Linear Regression results </b>\"))"
   ]
  },
  {
   "cell_type": "code",
   "execution_count": 49,
   "id": "15db1cf4-490b-4ab0-8319-4acdd8f438f9",
   "metadata": {},
   "outputs": [
    {
     "name": "stdout",
     "output_type": "stream",
     "text": [
      "Forecast Accuracy Metrics:\n",
      "MAE: 114.89047978548452\n",
      "RMSE: 151.7035660491518\n",
      "R²: 0.6412663289966773\n",
      "MAPE: 2.4587363887551052e+16\n"
     ]
    }
   ],
   "source": [
    "Regression_model=LinearRegression()\n",
    "Regression_model.fit(X_train, y_train)\n",
    "performance_model = {} \n",
    "    \n",
    "# Make predictions\n",
    "final_predictions = Regression_model.predict(sep_X)\n",
    "\n",
    "# Compute metrics\n",
    "mae = mean_absolute_error(sep_Y, final_predictions)\n",
    "rmse = np.sqrt(mean_squared_error(sep_Y, final_predictions))\n",
    "r2 = r2_score(sep_Y, final_predictions)\n",
    "mape = mean_absolute_percentage_error(sep_Y, final_predictions)\n",
    "\n",
    "# Print or log results\n",
    "print(\"Forecast Accuracy Metrics:\")\n",
    "print(f\"MAE: {mae}\")\n",
    "print(f\"RMSE: {rmse}\")\n",
    "print(f\"R²: {r2}\")\n",
    "print(f\"MAPE: {mape}\") "
   ]
  },
  {
   "cell_type": "code",
   "execution_count": 51,
   "id": "79e71a81-a8b1-4da1-8b8c-acbb2ea932d5",
   "metadata": {},
   "outputs": [
    {
     "data": {
      "text/html": [
       "<b>printing actual and predicted labels of sep month</b>"
      ],
      "text/plain": [
       "<IPython.core.display.HTML object>"
      ]
     },
     "metadata": {},
     "output_type": "display_data"
    }
   ],
   "source": [
    "display(HTML(\"<b>printing actual and predicted labels of sep month</b>\"))"
   ]
  },
  {
   "cell_type": "code",
   "execution_count": 52,
   "id": "3f03f8b1-3dd7-47ac-b470-c630960ee13e",
   "metadata": {},
   "outputs": [
    {
     "name": "stdout",
     "output_type": "stream",
     "text": [
      "         Actual   Predicted\n",
      "0    312.933333  557.075143\n",
      "1    382.866667  495.073945\n",
      "2    297.600000  496.386195\n",
      "3    194.333333  405.639674\n",
      "4    184.066667  407.413443\n",
      "..          ...         ...\n",
      "179  479.466667  427.755929\n",
      "180  410.000000  515.016470\n",
      "181  694.600000  589.694493\n",
      "182  607.200000  521.448343\n",
      "183  751.000000  410.831753\n",
      "\n",
      "[184 rows x 2 columns]\n"
     ]
    }
   ],
   "source": [
    "df = pd.DataFrame({\n",
    "    'Actual': sep_Y,\n",
    "    'Predicted': final_predictions\n",
    "}) \n",
    "print(df)"
   ]
  },
  {
   "cell_type": "code",
   "execution_count": 53,
   "id": "82195627-d0b7-4bd8-8940-3067562de6f5",
   "metadata": {},
   "outputs": [
    {
     "data": {
      "text/html": [
       "<b>saving resutls in CSV fromat</b>"
      ],
      "text/plain": [
       "<IPython.core.display.HTML object>"
      ]
     },
     "metadata": {},
     "output_type": "display_data"
    }
   ],
   "source": [
    "display(HTML(\"<b>saving resutls in CSV fromat</b>\"))"
   ]
  },
  {
   "cell_type": "code",
   "execution_count": 48,
   "id": "ab5dddcf-0948-45ff-a9c6-63f9ef1dbe18",
   "metadata": {},
   "outputs": [
    {
     "name": "stdout",
     "output_type": "stream",
     "text": [
      "<xarray.Dataset>\n",
      "Dimensions:   (time: 184)\n",
      "Coordinates:\n",
      "  * time      (time) int64 0 1 2 3 4 5 6 7 8 ... 176 177 178 179 180 181 182 183\n",
      "Data variables:\n",
      "    forecast  (time) float64 557.1 495.1 496.4 405.6 ... 515.0 589.7 521.4 410.8\n",
      "    actual    (time) float64 312.9 382.9 297.6 194.3 ... 410.0 694.6 607.2 751.0\n"
     ]
    }
   ],
   "source": [
    "ds = xr.Dataset(\n",
    "    {\n",
    "        \"forecast\": ([\"time\"], final_predictions),\n",
    "        \"actual\": ([\"time\"], sep_Y),\n",
    "    },\n",
    "    coords={\"time\": sep_Y.index} \n",
    ")\n",
    "ds.to_netcdf(\"forecast_results.nc\") \n",
    "print(ds) "
   ]
  },
  {
   "cell_type": "code",
   "execution_count": null,
   "id": "7b95a638-510b-442b-b5a0-98a419d3a469",
   "metadata": {},
   "outputs": [],
   "source": []
  }
 ],
 "metadata": {
  "kernelspec": {
   "display_name": "Python 3 (ipykernel)",
   "language": "python",
   "name": "python3"
  },
  "language_info": {
   "codemirror_mode": {
    "name": "ipython",
    "version": 3
   },
   "file_extension": ".py",
   "mimetype": "text/x-python",
   "name": "python",
   "nbconvert_exporter": "python",
   "pygments_lexer": "ipython3",
   "version": "3.12.7"
  }
 },
 "nbformat": 4,
 "nbformat_minor": 5
}
